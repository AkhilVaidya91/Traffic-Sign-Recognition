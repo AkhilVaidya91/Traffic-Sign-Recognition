{
 "cells": [
  {
   "cell_type": "markdown",
   "metadata": {},
   "source": [
    "## __Classification: Data Pre-Processing__"
   ]
  },
  {
   "cell_type": "code",
   "execution_count": 12,
   "metadata": {},
   "outputs": [],
   "source": [
    "## importing necessary libraries\n",
    "\n",
    "import numpy as np\n",
    "import pandas as pd\n",
    "import matplotlib.pyplot as plt\n",
    "import seaborn as sns\n",
    "import os\n",
    "\n",
    "import cv2\n",
    "from PIL import Image\n",
    "\n",
    "# from tensorflow.keras.applications import VGG16\n",
    "from tensorflow.keras.layers import RandomRotation, RandomContrast, RandomTranslation, RandomBrightness, RandomFlip    \n",
    "from tensorflow.keras.models import Sequential"
   ]
  },
  {
   "cell_type": "code",
   "execution_count": 3,
   "metadata": {},
   "outputs": [
    {
     "name": "stdout",
     "output_type": "stream",
     "text": [
      "['0', '1', '2', '3', '4', '5', '6', '7', '8']\n"
     ]
    }
   ],
   "source": [
    "## setting up the images directory\n",
    "\n",
    "images_dir = '../data/classification'\n",
    "\n",
    "print(os.listdir(images_dir))"
   ]
  },
  {
   "cell_type": "code",
   "execution_count": 6,
   "metadata": {},
   "outputs": [],
   "source": [
    "## loading dataset with 9 classses stored in 9 independent lists with 9 lists of labels\n",
    "## the dataset is stored in a folder called \"dataset\" in the current working directory\n",
    "\n",
    "def load_dataset(i):\n",
    "    dataset = []\n",
    "    labels = []\n",
    "    \n",
    "    path = images_dir + '/' + str(i)\n",
    "    files = os.listdir(path)\n",
    "    for file in files:\n",
    "        file_path = os.path.join(path, file)\n",
    "        img = cv2.imread(file_path)\n",
    "        if img is None:\n",
    "            continue\n",
    "        img = cv2.resize(img, (224, 224))\n",
    "        dataset.append(img)\n",
    "        labels.append(i)\n",
    "    return np.array(dataset), np.array(labels)\n"
   ]
  },
  {
   "cell_type": "code",
   "execution_count": 7,
   "metadata": {},
   "outputs": [],
   "source": [
    "class_0, labels_0 = load_dataset(0)\n",
    "class_1, labels_1 = load_dataset(1)\n",
    "class_2, labels_2 = load_dataset(2)\n",
    "class_3, labels_3 = load_dataset(3)\n",
    "class_4, labels_4 = load_dataset(4)\n",
    "class_5, labels_5 = load_dataset(5)\n",
    "class_6, labels_6 = load_dataset(6)\n",
    "class_7, labels_7 = load_dataset(7)\n",
    "class_8, labels_8 = load_dataset(8)"
   ]
  },
  {
   "cell_type": "code",
   "execution_count": 13,
   "metadata": {},
   "outputs": [],
   "source": [
    "data_augmentation = Sequential([\n",
    "  RandomRotation(0.1),\n",
    "  RandomContrast(0.1),\n",
    "  RandomBrightness(0.1),\n",
    "  RandomTranslation(0.15, 0.15),\n",
    "  RandomFlip('horizontal')\n",
    "])\n",
    "\n",
    "data_augmentation_reduced = Sequential([\n",
    "  RandomContrast(0.1),\n",
    "  RandomBrightness(0.1),\n",
    "  RandomTranslation(0.15, 0.15)\n",
    "])"
   ]
  },
  {
   "cell_type": "code",
   "execution_count": 14,
   "metadata": {},
   "outputs": [],
   "source": [
    "def augment(train_images, train_labels):\n",
    "    augmented_images = []\n",
    "    augmented_labels = []\n",
    "    for i in range(train_images.shape[0]):\n",
    "        augmented_images.append(train_images[i])\n",
    "        augmented_labels.append(train_labels[i])\n",
    "        for j in range(4):\n",
    "            augmented_images.append(data_augmentation(train_images[i]))\n",
    "            augmented_labels.append(train_labels[i])\n",
    "    return np.array(augmented_images), np.array(augmented_labels)\n",
    "\n",
    "def augment_low_low(train_images, train_labels):\n",
    "    augmented_images = []\n",
    "    augmented_labels = []\n",
    "    for i in range(train_images.shape[0]):\n",
    "        augmented_images.append(train_images[i])\n",
    "        augmented_labels.append(train_labels[i])\n",
    "        for j in range(4):\n",
    "            augmented_images.append(data_augmentation_reduced(train_images[i]))\n",
    "            augmented_labels.append(train_labels[i])\n",
    "    return np.array(augmented_images), np.array(augmented_labels)\n",
    "\n",
    "def augment_more_low(train_images, train_labels):\n",
    "    augmented_images = []\n",
    "    augmented_labels = []\n",
    "    for i in range(train_images.shape[0]):\n",
    "        augmented_images.append(train_images[i])\n",
    "        augmented_labels.append(train_labels[i])\n",
    "        for j in range(7):\n",
    "            augmented_images.append(data_augmentation_reduced(train_images[i]))\n",
    "            augmented_labels.append(train_labels[i])\n",
    "    return np.array(augmented_images), np.array(augmented_labels)\n",
    "\n",
    "def augment_much_more(train_images, train_labels):\n",
    "    augmented_images = []\n",
    "    augmented_labels = []\n",
    "    for i in range(train_images.shape[0]):\n",
    "        augmented_images.append(train_images[i])\n",
    "        augmented_labels.append(train_labels[i])\n",
    "        for j in range(15):\n",
    "            augmented_images.append(data_augmentation(train_images[i]))\n",
    "            augmented_labels.append(train_labels[i])\n",
    "    return np.array(augmented_images), np.array(augmented_labels)"
   ]
  },
  {
   "cell_type": "code",
   "execution_count": 15,
   "metadata": {},
   "outputs": [],
   "source": [
    "def normalize(train_images):\n",
    "    return train_images / 255.0"
   ]
  },
  {
   "cell_type": "code",
   "execution_count": 16,
   "metadata": {},
   "outputs": [],
   "source": [
    "class_0, labels_0 = augment(class_0, labels_0)\n",
    "class_1, labels_1 = augment_more_low(class_1, labels_1)\n",
    "class_2, labels_2 = augment_low_low(class_2, labels_2)\n",
    "class_3, labels_3 = augment(class_3, labels_3)\n",
    "class_4, labels_4 = augment(class_4, labels_4)\n",
    "class_5, labels_5 = augment(class_5, labels_5)\n",
    "class_6, labels_6 = augment(class_6, labels_6)\n",
    "class_7, labels_7 = augment(class_7, labels_7)\n",
    "class_8, labels_8 = augment_much_more(class_8, labels_8)"
   ]
  },
  {
   "cell_type": "code",
   "execution_count": 17,
   "metadata": {},
   "outputs": [
    {
     "data": {
      "image/png": "[encoded data removed]",
      "text/plain": [
       "<Figure size 1000x500 with 1 Axes>"
      ]
     },
     "metadata": {},
     "output_type": "display_data"
    }
   ],
   "source": [
    "## plotting number of images in each class\n",
    "\n",
    "plt.figure(figsize=(10, 5))\n",
    "plt.bar(range(9), [len(labels_0), len(labels_1), len(labels_2), len(labels_3), len(labels_4), len(labels_5), len(labels_6), len(labels_7), len(labels_8)])\n",
    "plt.xlabel('Class')\n",
    "plt.ylabel('Number of images')\n",
    "plt.title('Number of images in each class')\n",
    "plt.show()"
   ]
  },
  {
   "cell_type": "code",
   "execution_count": null,
   "metadata": {},
   "outputs": [],
   "source": [
    "X = np.concatenate((class_0, class_1, class_2, class_3, class_4, class_5, class_6, class_7, class_8))\n",
    "y = np.concatenate((labels_0, labels_1, labels_2, labels_3, labels_4, labels_5, labels_6, labels_7, labels_8))\n",
    "X.shape, y.shape"
   ]
  },
  {
   "cell_type": "code",
   "execution_count": null,
   "metadata": {},
   "outputs": [],
   "source": [
    "X = normalize(X)"
   ]
  },
  {
   "cell_type": "code",
   "execution_count": null,
   "metadata": {},
   "outputs": [],
   "source": [
    "## splitting the dataset into training and testing sets\n",
    "\n",
    "from sklearn.model_selection import train_test_split\n",
    "X_train, X_test, y_train, y_test = train_test_split(X, y, test_size=0.2, random_state=42, stratify=y)"
   ]
  }
 ],
 "metadata": {
  "kernelspec": {
   "display_name": "Python 3",
   "language": "python",
   "name": "python3"
  },
  "language_info": {
   "codemirror_mode": {
    "name": "ipython",
    "version": 3
   },
   "file_extension": ".py",
   "mimetype": "text/x-python",
   "name": "python",
   "nbconvert_exporter": "python",
   "pygments_lexer": "ipython3",
   "version": "3.12.0"
  }
 },
 "nbformat": 4,
 "nbformat_minor": 2
}
